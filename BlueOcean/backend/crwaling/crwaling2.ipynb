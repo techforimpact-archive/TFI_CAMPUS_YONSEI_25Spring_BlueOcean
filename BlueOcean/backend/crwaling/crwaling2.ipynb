{
 "cells": [
  {
   "cell_type": "code",
   "execution_count": 16,
   "id": "1737514a",
   "metadata": {},
   "outputs": [
    {
     "name": "stdout",
     "output_type": "stream",
     "text": [
      "🔍 Fetching ID 525865...\n",
      "✔️ 제2회 여수 국제 웹드라마 영화제 작품 공모\n",
      "🔍 Fetching ID 525856...\n",
      "✔️ 2025년 「새마을금고연구」 논몬 공모\n",
      "🔍 Fetching ID 525855...\n",
      "✔️ 2025 스컬피아 신진작가 공모전 (2025 Sculpia Rising Artist Festa - SRAF)\n",
      "🔍 Fetching ID 525852...\n",
      "✔️ 2025 울산조선해양축제 기발한 배 콘테스트&아이디어 공모전\n",
      "🔍 Fetching ID 525851...\n",
      "✔️ 2025 축산유통 국민참여 혁신 경진대회\n",
      "🔍 Fetching ID 525845...\n",
      "✔️ 2025년 아태기후센터 기후위기 숏폼 공모전\n",
      "🔍 Fetching ID 525844...\n",
      "✔️ 「자연을 걷고, 순간을 담다. 」전북 생태관광 및 천리길 사진 및 숏폼 공모전\n",
      "🔍 Fetching ID 525840...\n",
      "✔️ 충청광역연합 새 얼굴 심벌(CI) 디자인 공모전\n",
      "🔍 Fetching ID 525837...\n",
      "✔️ 2025년 강원특별자치도 규제개선 과제 공모\n",
      "🔍 Fetching ID 525831...\n",
      "✔️ 『오구오구 동대문』2025 동대문구 59초 숏폼 공모전\n",
      "🔍 Fetching ID 525815...\n",
      "✔️ 해군 카카오톡 이모티콘 공모전\n",
      "🔍 Fetching ID 525809...\n",
      "✔️ 2025년 소상공인365,공공데이터 숏폼 영상 공모전\n",
      "✅ 크롤링 완료: contest_id_range_crawl.csv 저장됨\n"
     ]
    }
   ],
   "source": [
    "import requests\n",
    "from bs4 import BeautifulSoup\n",
    "import csv\n",
    "import time\n",
    "\n",
    "BASE_URL = \"https://www.all-con.co.kr/view/contest/\"\n",
    "HEADERS = {\"User-Agent\": \"Mozilla/5.0\"}\n",
    "\n",
    "def get_contest_detail(contest_id):\n",
    "    url = f\"{BASE_URL}{contest_id}\"\n",
    "    res = requests.get(url, headers=HEADERS)\n",
    "\n",
    "    if res.status_code != 200:\n",
    "        return None  # 존재하지 않는 공모전이면 skip\n",
    "\n",
    "    soup = BeautifulSoup(res.text, 'html.parser')\n",
    "\n",
    "    title_tag = soup.select_one(\"div.contest_title_wrap h1\")\n",
    "    dday_tag = soup.select_one(\"span.cl_dday\")\n",
    "    content_tag = soup.select_one(\"div#contest_body\")\n",
    "    image_tag = soup.select_one(\"div.contest_poster img\")\n",
    "    pdf_tag = soup.select_one(\"a[href$='.pdf']\")\n",
    "\n",
    "    return {\n",
    "        \"title\": title_tag.get_text(strip=True) if title_tag else \"N/A\",\n",
    "        \"date\": dday_tag.get_text(strip=True) if dday_tag else \"N/A\",\n",
    "        \"content\": content_tag.get_text(\"\\n\", strip=True) if content_tag else \"N/A\",\n",
    "        \"image_url\": \"https://www.all-con.co.kr\" + image_tag['src'] if image_tag else \"\",\n",
    "        \"pdf_url\": \"https://www.all-con.co.kr\" + pdf_tag['href'] if pdf_tag else \"\",\n",
    "        \"detail_url\": url\n",
    "    }\n",
    "\n",
    "# 🔁 ID 범위 순회\n",
    "all_data = []\n",
    "list1=[525865, 525856, 525855, 525852, 525851, 525845, \n",
    "       525844, 525840, 525837, 525831, 525815, 525809\n",
    "]\n",
    "for contest_id in list1:\n",
    "    print(f\"🔍 Fetching ID {contest_id}...\")\n",
    "    try:\n",
    "        detail = get_contest_detail(contest_id)\n",
    "        if detail:\n",
    "            all_data.append(detail)\n",
    "            print(f\"✔️ {detail['title']}\")\n",
    "        else:\n",
    "            print(\"❌ 페이지 없음 또는 잘못된 ID\")\n",
    "        time.sleep(0.3)  # 너무 빠른 접근 방지\n",
    "    except Exception as e:\n",
    "        print(f\"⚠️ Error ID {contest_id}: {e}\")\n",
    "\n",
    "# 📄 CSV 저장\n",
    "with open(\"contest_id_range_crawl.csv\", \"w\", newline=\"\", encoding=\"utf-8-sig\") as f:\n",
    "    writer = csv.DictWriter(f, fieldnames=[\n",
    "        \"title\", \"date\", \"content\", \"image_url\", \"pdf_url\", \"detail_url\"\n",
    "    ])\n",
    "    writer.writeheader()\n",
    "    writer.writerows(all_data)\n",
    "\n",
    "print(\"✅ 크롤링 완료: contest_id_range_crawl.csv 저장됨\")\n"
   ]
  },
  {
   "cell_type": "code",
   "execution_count": 17,
   "id": "cf6c3369",
   "metadata": {},
   "outputs": [
    {
     "name": "stdout",
     "output_type": "stream",
     "text": [
      "✅ 제목이 'N/A'인 항목을 제거하고 저장 완료: filtered_contest_data.csv\n"
     ]
    }
   ],
   "source": [
    "import csv\n",
    "\n",
    "# 기존 크롤링된 데이터 불러오기\n",
    "input_file = \"contest_id_range_crawl.csv\"\n",
    "output_file = \"filtered_contest_data.csv\"\n",
    "\n",
    "filtered_rows = []\n",
    "\n",
    "# 데이터 읽기 & 필터링\n",
    "with open(input_file, newline='', encoding='utf-8-sig') as infile:\n",
    "    reader = csv.DictReader(infile)\n",
    "    for row in reader:\n",
    "        if row[\"제목\"] != \"N/A\":\n",
    "            filtered_rows.append(row)\n",
    "\n",
    "# 필터링된 데이터 저장\n",
    "with open(output_file, \"w\", newline='', encoding='utf-8-sig') as outfile:\n",
    "    writer = csv.DictWriter(outfile, fieldnames=reader.fieldnames)\n",
    "    writer.writeheader()\n",
    "    writer.writerows(filtered_rows)\n",
    "\n",
    "print(f\"✅ 제목이 'N/A'인 항목을 제거하고 저장 완료: {output_file}\")\n"
   ]
  },
  {
   "cell_type": "code",
   "execution_count": null,
   "id": "77d705b5",
   "metadata": {},
   "outputs": [],
   "source": []
  }
 ],
 "metadata": {
  "kernelspec": {
   "display_name": "Python 3",
   "language": "python",
   "name": "python3"
  },
  "language_info": {
   "codemirror_mode": {
    "name": "ipython",
    "version": 3
   },
   "file_extension": ".py",
   "mimetype": "text/x-python",
   "name": "python",
   "nbconvert_exporter": "python",
   "pygments_lexer": "ipython3",
   "version": "3.11.9"
  }
 },
 "nbformat": 4,
 "nbformat_minor": 5
}
